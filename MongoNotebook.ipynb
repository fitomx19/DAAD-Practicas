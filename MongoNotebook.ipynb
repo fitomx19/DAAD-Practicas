{
 "cells": [
  {
   "cell_type": "markdown",
   "metadata": {},
   "source": [
    "## MongoDB en python Notebook"
   ]
  },
  {
   "cell_type": "code",
   "execution_count": 14,
   "metadata": {},
   "outputs": [],
   "source": [
    "#pip install pymongo"
   ]
  },
  {
   "cell_type": "code",
   "execution_count": 15,
   "metadata": {},
   "outputs": [
    {
     "data": {
      "text/plain": [
       "Database(MongoClient(host=['localhost:27017'], document_class=dict, tz_aware=False, connect=True), 'apiRestaurante')"
      ]
     },
     "execution_count": 15,
     "metadata": {},
     "output_type": "execute_result"
    }
   ],
   "source": [
    "import pymongo\n",
    "from pymongo import MongoClient\n",
    "client = MongoClient('localhost',27017)\n",
    "db = client['apiRestaurante']\n",
    "db"
   ]
  },
  {
   "cell_type": "markdown",
   "metadata": {},
   "source": [
    "1.- Imprimir Todos los valores dentro de alimentos"
   ]
  },
  {
   "cell_type": "code",
   "execution_count": 16,
   "metadata": {},
   "outputs": [
    {
     "name": "stdout",
     "output_type": "stream",
     "text": [
      "{'_id': ObjectId('61e6fed065857ab162810e3d'), 'nombre': 'Bowl Sencillo', 'tags': ['#vegetariano', '#bowl', '#frescp'], 'url': 'https://blog.disfrutaverdura.com/wp-content/uploads/2017/02/Buddha-Bowl.jpg', 'calorias': 180, 'creado': datetime.datetime(2022, 1, 18, 17, 53, 35, 707000), '__v': 0}\n",
      "{'_id': ObjectId('61e7177765857ab162810e3f'), 'nombre': 'Pasta Poblana', 'tags': ['#casero'], 'url': 'https://app.manzanaverde.la/images/slider/mx/plate-2.png', 'calorias': 600, 'creado': datetime.datetime(2022, 1, 18, 17, 53, 35, 707000), '__v': 0}\n",
      "{'_id': ObjectId('61e717b565857ab162810e41'), 'nombre': 'Tinga de pollo', 'tags': ['#carnivoro', '#casero'], 'url': 'https://app.manzanaverde.la/images/slider/mx/plate-6.png', 'calorias': 600, 'creado': datetime.datetime(2022, 1, 18, 17, 53, 35, 707000), '__v': 0}\n",
      "{'_id': ObjectId('61e7180465857ab162810e43'), 'nombre': 'Hot cake de calabaza', 'tags': ['#vegano', '#vegetariano'], 'url': 'https://app.manzanaverde.la/images/slider/mx/plate-3.png', 'calorias': 200, 'creado': datetime.datetime(2022, 1, 18, 17, 53, 35, 707000), '__v': 0}\n",
      "{'_id': ObjectId('61e7184d65857ab162810e45'), 'nombre': 'Sandwich de pollo', 'tags': ['#carnivoro', '#desayuno', '#casero'], 'url': 'https://app.manzanaverde.la/images/slider/mx/plate-8.png', 'calorias': 200, 'creado': datetime.datetime(2022, 1, 18, 17, 53, 35, 707000), '__v': 0}\n",
      "{'_id': ObjectId('61e7187a65857ab162810e47'), 'nombre': 'Pancake de chocolate', 'tags': ['#vegetariano', '#desayuno', '#chocolate'], 'url': 'https://app.manzanaverde.la/images/slider/mx/plate-7.png', 'calorias': 200, 'creado': datetime.datetime(2022, 1, 18, 17, 53, 35, 707000), '__v': 0}\n",
      "{'_id': ObjectId('61e718d165857ab162810e49'), 'nombre': 'Burrito de pollo y queso', 'tags': ['#carnivoro', '#pollo', '#desayuno'], 'url': 'https://app.manzanaverde.la/images/slider/mx/plate-4.png', 'calorias': 200, 'creado': datetime.datetime(2022, 1, 18, 17, 53, 35, 707000), '__v': 0}\n",
      "{'_id': ObjectId('61e7191765857ab162810e4b'), 'nombre': 'Salpicon de res', 'tags': ['#carnivoro', '#res', '#comida'], 'url': 'https://app.manzanaverde.la/images/slider/mx/plate-1.png', 'calorias': 600, 'creado': datetime.datetime(2022, 1, 18, 17, 53, 35, 707000), '__v': 0}\n"
     ]
    }
   ],
   "source": [
    "mycol = db[\"alimentos\"]\n",
    "\n",
    "for x in mycol.find():\n",
    "  print(x)"
   ]
  },
  {
   "cell_type": "markdown",
   "metadata": {},
   "source": [
    "2.- Imprimir Todos los valores con el nombre Salpicon de res"
   ]
  },
  {
   "cell_type": "code",
   "execution_count": 17,
   "metadata": {},
   "outputs": [
    {
     "name": "stdout",
     "output_type": "stream",
     "text": [
      "{'_id': ObjectId('61e7191765857ab162810e4b'), 'nombre': 'Salpicon de res', 'tags': ['#carnivoro', '#res', '#comida'], 'url': 'https://app.manzanaverde.la/images/slider/mx/plate-1.png', 'calorias': 600, 'creado': datetime.datetime(2022, 1, 18, 17, 53, 35, 707000), '__v': 0}\n"
     ]
    }
   ],
   "source": [
    "myquery = { \"nombre\": \"Salpicon de res\" }\n",
    "\n",
    "mydoc = mycol.find(myquery)\n",
    "\n",
    "for x in mydoc:\n",
    "  print(x)"
   ]
  },
  {
   "cell_type": "markdown",
   "metadata": {},
   "source": [
    "3.- Imprimir Todos los registros con más de 200 calorias"
   ]
  },
  {
   "cell_type": "code",
   "execution_count": 18,
   "metadata": {},
   "outputs": [
    {
     "name": "stdout",
     "output_type": "stream",
     "text": [
      "{'_id': ObjectId('61e7177765857ab162810e3f'), 'nombre': 'Pasta Poblana', 'tags': ['#casero'], 'url': 'https://app.manzanaverde.la/images/slider/mx/plate-2.png', 'calorias': 600, 'creado': datetime.datetime(2022, 1, 18, 17, 53, 35, 707000), '__v': 0}\n",
      "{'_id': ObjectId('61e717b565857ab162810e41'), 'nombre': 'Tinga de pollo', 'tags': ['#carnivoro', '#casero'], 'url': 'https://app.manzanaverde.la/images/slider/mx/plate-6.png', 'calorias': 600, 'creado': datetime.datetime(2022, 1, 18, 17, 53, 35, 707000), '__v': 0}\n",
      "{'_id': ObjectId('61e7191765857ab162810e4b'), 'nombre': 'Salpicon de res', 'tags': ['#carnivoro', '#res', '#comida'], 'url': 'https://app.manzanaverde.la/images/slider/mx/plate-1.png', 'calorias': 600, 'creado': datetime.datetime(2022, 1, 18, 17, 53, 35, 707000), '__v': 0}\n"
     ]
    }
   ],
   "source": [
    "myquery = { \"calorias\": { \"$gt\": 200 } }\n",
    "\n",
    "mydoc = mycol.find(myquery)\n",
    "\n",
    "for x in mydoc:\n",
    "  print(x)"
   ]
  },
  {
   "cell_type": "code",
   "execution_count": null,
   "metadata": {},
   "outputs": [],
   "source": []
  }
 ],
 "metadata": {
  "interpreter": {
   "hash": "31f2aee4e71d21fbe5cf8b01ff0e069b9275f58929596ceb00d14d90e3e16cd6"
  },
  "kernelspec": {
   "display_name": "Python 3.8.9 64-bit",
   "language": "python",
   "name": "python3"
  },
  "language_info": {
   "codemirror_mode": {
    "name": "ipython",
    "version": 3
   },
   "file_extension": ".py",
   "mimetype": "text/x-python",
   "name": "python",
   "nbconvert_exporter": "python",
   "pygments_lexer": "ipython3",
   "version": "3.8.9"
  },
  "orig_nbformat": 4
 },
 "nbformat": 4,
 "nbformat_minor": 2
}
