{
 "cells": [
  {
   "cell_type": "markdown",
   "metadata": {},
   "source": [
    "### Consulta a archivo csv para graficar"
   ]
  },
  {
   "cell_type": "code",
   "execution_count": 8,
   "metadata": {},
   "outputs": [],
   "source": [
    "import matplotlib.pyplot as plt  \n",
    "import csv\n",
    "from collections import defaultdict \n",
    "#[Cambien su path aqui]\n",
    "path=\"/Users/adolfohuerta/OneDrive - Instituto Politecnico Nacional/DAAD/documentos/historico-colonias-mensual.csv\"\n",
    "Diccionario = {}\n",
    "\n",
    "lista = []\n",
    "casosNumero = 0\n",
    "    \n",
    "with open(path, newline='', encoding='iso-8859-1') as f:\n",
    "    reader = csv.reader(f)\n",
    "    for row in reader:\n",
    "      \n",
    "        if(row[5]!=\"casos_positivos\"):\n",
    "            #agregamos a una lista, en formato ['delegacion','# casos']\n",
    "            lista.append([row[0],int(row[5])])\n",
    "\n",
    "\n",
    "#Agrupamos en una lista los resultados, son varias colonias de delegaciones simialres\n",
    "temp = defaultdict(list) \n",
    "for key, val in lista: \n",
    "    temp[key].append(val) \n",
    "res = dict((key, tuple(val)) for key, val in temp.items()) \n",
    "\n",
    "#Ahora sumamos los valores numericos que estan dentro del diccionario\n",
    "suma_valores_agrupados = {k: sum(v) for (k, v) in res.items()}\n",
    "\n"
   ]
  },
  {
   "cell_type": "code",
   "execution_count": 9,
   "metadata": {},
   "outputs": [
    {
     "data": {
      "image/png": "[encoded data removed]",
      "text/plain": [
       "<Figure size 540x252 with 1 Axes>"
      ]
     },
     "metadata": {
      "needs_background": "light"
     },
     "output_type": "display_data"
    }
   ],
   "source": [
    "#Agregamos los datos recordando utilizar los values  como rango y y la longitud del diccionario como x\n",
    "plt.bar(range(len(suma_valores_agrupados)), list(suma_valores_agrupados.values()), align='center')\n",
    "#Aca convertimos el range (1,2,3,4...) de los dias a el nombre de la impresion como lo es Hoy Lunes, Martes...\n",
    "plt.xticks(range(len(suma_valores_agrupados)), list(suma_valores_agrupados.keys()))\n",
    "#Ajustamos el tamaño\n",
    "plt.axis([0, 16, 0, 1000000])\n",
    "plt.rcParams[\"figure.figsize\"] = [7.50, 3.50]\n",
    "plt.rcParams[\"figure.autolayout\"] = True\n",
    "plt.title(\"Casos Covid semanal Ciudad de Mexico\")\n",
    "plt.xticks(fontsize=8)\n",
    "#Imprimos la tabla\n",
    "plt.show()\n",
    "\n"
   ]
  },
  {
   "cell_type": "markdown",
   "metadata": {},
   "source": [
    "Si alguien sabe como cambiar el tamaño de las graficas se lo agradeceria muchisimo me lo compartiera."
   ]
  }
 ],
 "metadata": {
  "interpreter": {
   "hash": "12e7b2db913c7cced4d5bf71ce365c438f2053887e824f813caa9208ccef4b13"
  },
  "kernelspec": {
   "display_name": "Python 3.9.7 ('base')",
   "language": "python",
   "name": "python3"
  },
  "language_info": {
   "codemirror_mode": {
    "name": "ipython",
    "version": 3
   },
   "file_extension": ".py",
   "mimetype": "text/x-python",
   "name": "python",
   "nbconvert_exporter": "python",
   "pygments_lexer": "ipython3",
   "version": "3.9.7"
  },
  "orig_nbformat": 4
 },
 "nbformat": 4,
 "nbformat_minor": 2
}
