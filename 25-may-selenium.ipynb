{
 "cells": [
  {
   "cell_type": "markdown",
   "metadata": {},
   "source": [
    "### Webscrapping Python "
   ]
  },
  {
   "cell_type": "code",
   "execution_count": 1,
   "metadata": {},
   "outputs": [],
   "source": [
    "import random\n",
    "from time import sleep\n",
    "from selenium.webdriver.common.by import By\n",
    "from selenium import webdriver\n",
    "from selenium.webdriver.chrome.service import Service\n",
    "#cambien su ruta\n",
    "DRIVER_PATH = 'documentos/chromedriver 3'\n",
    "opt = webdriver.ChromeOptions()\n",
    "opt.add_argument('--start-maximized')\n",
    "opt.add_argument('--disable-extensions')\n",
    "##chequen que sea la version más actualizada yo estoy usando la version 100 de chrome que es la más nueva\n",
    "s = Service(r'documentos/chromedriver 3')\n",
    "driver = webdriver.Chrome(service=s,options=opt)\n"
   ]
  },
  {
   "cell_type": "code",
   "execution_count": 74,
   "metadata": {},
   "outputs": [],
   "source": [
    "driver.get('https://www.olxautos.com.mx/autos_c84?filter=olxautos_listing_eq_true')\n",
    "sleep(random.uniform(8.0,10.0))\n",
    "autos  = driver.find_elements(By.XPATH, \"//li[@data-aut-id='itemBox']\")\n"
   ]
  },
  {
   "cell_type": "code",
   "execution_count": 92,
   "metadata": {},
   "outputs": [],
   "source": [
    "for auto in autos:\n",
    "    precio = auto.find_element(By.XPATH, \".//div[@data-aut-id='itemPrice']\").text\n",
    "    nombre = auto.find_element(By.XPATH, \".//div[@data-aut-id='itemTitle']\").text\n"
   ]
  },
  {
   "cell_type": "markdown",
   "metadata": {},
   "source": [
    "### Impresion Auto más caro"
   ]
  },
  {
   "cell_type": "code",
   "execution_count": 75,
   "metadata": {},
   "outputs": [],
   "source": [
    "driver.get(\"https://www.olxautos.com.mx/autos_c84?filter=olxautos_listing_eq_true&sorting=desc-price\")\n",
    "sleep(random.uniform(8.0,10.0))\n",
    "autos  = driver.find_elements(By.XPATH, \"//li[@data-aut-id='itemBox']\")\n",
    "#mail = driver.find_element(By.XPATH, mail_input2)\n",
    "#driver.implicitly_wait(3)\n",
    "Diccionario = {}\n",
    "for auto in autos:\n",
    "    precio = auto.find_element(By.XPATH, \".//div[@data-aut-id='itemPrice']\").text \n",
    "    nombre = auto.find_element(By.XPATH, \".//div[@data-aut-id='itemTitle']\").text\n",
    "    Diccionario.update({nombre : precio }) "
   ]
  },
  {
   "cell_type": "code",
   "execution_count": 78,
   "metadata": {},
   "outputs": [
    {
     "name": "stdout",
     "output_type": "stream",
     "text": [
      "2020, Honda Odyssey\n"
     ]
    }
   ],
   "source": [
    "print(list(Diccionario.keys())[0])"
   ]
  },
  {
   "cell_type": "markdown",
   "metadata": {},
   "source": [
    "#### Agregar por marcas"
   ]
  },
  {
   "cell_type": "code",
   "execution_count": 79,
   "metadata": {},
   "outputs": [],
   "source": [
    "driver.get(\"https://www.olxautos.com.mx/autos_c84?filter=olxautos_listing_eq_true&sorting=asc-price\")\n",
    "#cambiar asc por desc y cambia en ascendente o descendente precio\n",
    "\n",
    "sleep(random.uniform(8.0,10.0))\n",
    "autos  = driver.find_elements(By.XPATH, \"//li[@data-aut-id='itemBox']\")\n",
    "#mail = driver.find_element(By.XPATH, mail_input2)\n",
    "#driver.implicitly_wait(3)\n",
    "Diccionario = {}\n",
    "for auto in autos:\n",
    "    precio = auto.find_element(By.XPATH, \".//div[@data-aut-id='itemPrice']\").text \n",
    "    nombre = auto.find_element(By.XPATH, \".//div[@data-aut-id='itemTitle']\").text\n",
    "    Diccionario.update({nombre : precio })"
   ]
  },
  {
   "cell_type": "code",
   "execution_count": 80,
   "metadata": {},
   "outputs": [
    {
     "data": {
      "text/plain": [
       "{'2017, Chevrolet Spark': '$ 169,000\\nMensualidad $ 3,288',\n",
       " '2016, Chevrolet Spark': '$ 150,000\\nMensualidad $ 2,918',\n",
       " '2016, Chevrolet Aveo': '$ 156,905\\nMensualidad $ 3,052',\n",
       " '2016, Ford Figo': '$ 168,900\\nMensualidad $ 3,286',\n",
       " '2017, Chevrolet Aveo': '$ 169,000\\nMensualidad $ 3,288',\n",
       " '2019, Dodge Attitude': '$ 171,231\\nMensualidad $ 3,331',\n",
       " '2019, Chevrolet Beat': '$ 173,120\\nMensualidad $ 3,368',\n",
       " '2017, Volkswagen Gol': '$ 199,000\\nMensualidad $ 3,871',\n",
       " '2016, Nissan March': '$ 175,800\\nMensualidad $ 3,420',\n",
       " '2018, Ford Figo': '$ 178,000\\nMensualidad $ 3,463',\n",
       " '2018, Nissan Versa': '$ 180,000\\nMensualidad $ 3,502',\n",
       " '2018, Chevrolet Aveo': '$ 180,000\\nMensualidad $ 3,502',\n",
       " '2020, Renault Kwid': '$ 187,000\\nMensualidad $ 3,638',\n",
       " '2018, Chevrolet Beat': '$ 187,500\\nMensualidad $ 3,648',\n",
       " '2020, Chevrolet Beat': '$ 199,350\\nMensualidad $ 3,878',\n",
       " '2017, Toyota Yaris': '$ 190,000\\nMensualidad $ 3,696',\n",
       " '2015, Volkswagen Vento': '$ 190,400\\nMensualidad $ 3,704',\n",
       " '2017, Chevrolet Sonic': '$ 198,000\\nMensualidad $ 3,852',\n",
       " '2019, Fiat Uno': '$ 192,300\\nMensualidad $ 3,741',\n",
       " '2018, Volkswagen Gol': '$ 193,200\\nMensualidad $ 3,759',\n",
       " '2020, Chevrolet Aveo': '$ 193,522\\nMensualidad $ 3,765',\n",
       " '2019, Chevrolet Aveo': '$ 199,000\\nMensualidad $ 3,871',\n",
       " '2019, Nissan Versa': '$ 195,000\\nMensualidad $ 3,794',\n",
       " '2017, Volkswagen Polo': '$ 195,000\\nMensualidad $ 3,794',\n",
       " '2018, Volkswagen Vento': '$ 195,000\\nMensualidad $ 3,794',\n",
       " '2020, Nissan Versa': '$ 198,790\\nMensualidad $ 3,867',\n",
       " '2017, Nissan Sentra': '$ 199,000\\nMensualidad $ 3,871',\n",
       " '2018, Renault Stepway': '$ 199,000\\nMensualidad $ 3,871',\n",
       " '2017, Ford Fiesta': '$ 199,000\\nMensualidad $ 3,871',\n",
       " '2018, Chevrolet Spark': '$ 199,000\\nMensualidad $ 3,871',\n",
       " '2016, Chevrolet Cruze': '$ 200,000\\nMensualidad $ 3,891'}"
      ]
     },
     "execution_count": 80,
     "metadata": {},
     "output_type": "execute_result"
    }
   ],
   "source": [
    "Diccionario\n"
   ]
  },
  {
   "cell_type": "code",
   "execution_count": 81,
   "metadata": {},
   "outputs": [
    {
     "name": "stdout",
     "output_type": "stream",
     "text": [
      "2017, Chevrolet Spark\n"
     ]
    }
   ],
   "source": [
    "print(list(Diccionario.keys())[0])"
   ]
  },
  {
   "cell_type": "code",
   "execution_count": 68,
   "metadata": {},
   "outputs": [],
   "source": [
    "\n",
    "driver.get(\"https://www.olxautos.com.mx/autos_c84?filter=olxautos_listing_eq_true&sorting=desc-price\")\n",
    "sleep(random.uniform(8.0,10.0))\n",
    "autos  = driver.find_elements(By.XPATH, \"//li[@data-aut-id='itemBox']\")\n",
    "#mail = driver.find_element(By.XPATH, mail_input2)\n",
    "#driver.implicitly_wait(3)\n"
   ]
  },
  {
   "cell_type": "code",
   "execution_count": 85,
   "metadata": {},
   "outputs": [],
   "source": [
    "\n",
    "ListaApariciones = []\n",
    "for auto in autos:\n",
    "    precio = auto.find_element(By.XPATH, \".//div[@data-aut-id='itemPrice']\").text \n",
    "    nombre = auto.find_element(By.XPATH, \".//div[@data-aut-id='itemTitle']\").text\n",
    "\n",
    "  \n",
    "    ListaApariciones.append(nombre.split(\" \")[1])\n",
    "    #seleccionamos la marca del vehiculo\n",
    "    Diccionario.update({nombre.split(\" \")[1] : precio })"
   ]
  },
  {
   "cell_type": "code",
   "execution_count": 87,
   "metadata": {},
   "outputs": [],
   "source": [
    "SumadeMarcas = dict(zip(ListaApariciones,map(lambda x: ListaApariciones.count(x),ListaApariciones)))"
   ]
  },
  {
   "cell_type": "code",
   "execution_count": 88,
   "metadata": {},
   "outputs": [
    {
     "name": "stdout",
     "output_type": "stream",
     "text": [
      "{'Chevrolet': 21, 'Ford': 3, 'Dodge': 1, 'Volkswagen': 6, 'Nissan': 5, 'Renault': 2, 'Toyota': 1, 'Fiat': 1}\n"
     ]
    }
   ],
   "source": [
    "print(SumadeMarcas)"
   ]
  },
  {
   "cell_type": "code",
   "execution_count": 89,
   "metadata": {},
   "outputs": [
    {
     "data": {
      "image/png": "[encoded data removed]",
      "text/plain": [
       "<Figure size 432x288 with 1 Axes>"
      ]
     },
     "metadata": {
      "needs_background": "light"
     },
     "output_type": "display_data"
    }
   ],
   "source": [
    "import matplotlib.pyplot as plt\n",
    "\n",
    "plt.bar(range(len(SumadeMarcas)), list(SumadeMarcas.values()), align='center')\n",
    "plt.xticks(range(len(SumadeMarcas)), list(SumadeMarcas.keys()))\n",
    "plt.show()"
   ]
  },
  {
   "cell_type": "markdown",
   "metadata": {},
   "source": [
    "Agregar a archivo txt"
   ]
  },
  {
   "cell_type": "code",
   "execution_count": 91,
   "metadata": {},
   "outputs": [],
   "source": [
    "import json\n",
    "# as requested in comment\n",
    "Nombre = {'CarrosBaratos': SumadeMarcas}\n",
    "with  open(\"./documentos/carros.txt\", \"w\") as file:\n",
    "    file.write(json.dumps(Nombre)) # use `json.loads` to do the reverse"
   ]
  },
  {
   "cell_type": "code",
   "execution_count": 54,
   "metadata": {},
   "outputs": [
    {
     "data": {
      "text/plain": [
       "{'Chevrolet': '$ 200,000\\nMensualidad $ 3,891',\n",
       " 'Ford': '$ 199,000\\nMensualidad $ 3,871',\n",
       " 'Dodge': '$ 171,231\\nMensualidad $ 3,331',\n",
       " 'Nissan': '$ 199,000\\nMensualidad $ 3,871',\n",
       " 'Volkswagen': '$ 199,000\\nMensualidad $ 3,871',\n",
       " 'Renault': '$ 199,000\\nMensualidad $ 3,871',\n",
       " 'Toyota': '$ 190,000\\nMensualidad $ 3,696',\n",
       " 'Fiat': '$ 192,300\\nMensualidad $ 3,741'}"
      ]
     },
     "execution_count": 54,
     "metadata": {},
     "output_type": "execute_result"
    }
   ],
   "source": [
    "Diccionario"
   ]
  }
 ],
 "metadata": {
  "interpreter": {
   "hash": "12e7b2db913c7cced4d5bf71ce365c438f2053887e824f813caa9208ccef4b13"
  },
  "kernelspec": {
   "display_name": "Python 3.9.7 ('base')",
   "language": "python",
   "name": "python3"
  },
  "language_info": {
   "codemirror_mode": {
    "name": "ipython",
    "version": 3
   },
   "file_extension": ".py",
   "mimetype": "text/x-python",
   "name": "python",
   "nbconvert_exporter": "python",
   "pygments_lexer": "ipython3",
   "version": "3.9.7"
  },
  "orig_nbformat": 4
 },
 "nbformat": 4,
 "nbformat_minor": 2
}
