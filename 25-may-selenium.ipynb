{
 "cells": [
  {
   "cell_type": "markdown",
   "metadata": {},
   "source": [
    "### Webscrapping Python "
   ]
  },
  {
   "cell_type": "code",
   "execution_count": 42,
   "metadata": {},
   "outputs": [],
   "source": [
    "import random\n",
    "from time import sleep\n",
    "from selenium.webdriver.common.by import By\n",
    "from selenium import webdriver\n",
    "from selenium.webdriver.chrome.service import Service\n",
    "#cambien su ruta\n",
    "DRIVER_PATH = 'documentos/chromedriver 3'\n",
    "opt = webdriver.ChromeOptions()\n",
    "opt.add_argument('--start-maximized')\n",
    "opt.add_argument('--disable-extensions')\n",
    "##chequen que sea la version más actualizada yo estoy usando la version 100 de chrome que es la más nueva\n",
    "s = Service(r'documentos/chromedriver 3')\n",
    "driver = webdriver.Chrome(service=s,options=opt)\n"
   ]
  },
  {
   "cell_type": "code",
   "execution_count": 43,
   "metadata": {},
   "outputs": [],
   "source": [
    "driver.get('https://www.olxautos.com.mx/autos_c84?filter=olxautos_listing_eq_true')\n",
    "sleep(random.uniform(8.0,10.0))\n",
    "autos  = driver.find_elements(By.XPATH, \"//li[@data-aut-id='itemBox']\")\n"
   ]
  },
  {
   "cell_type": "code",
   "execution_count": 44,
   "metadata": {},
   "outputs": [
    {
     "name": "stdout",
     "output_type": "stream",
     "text": [
      "$ 257,000\n",
      "Mensualidad $ 5,000\n",
      "2019, Seat Ibiza\n",
      "$ 378,000\n",
      "Mensualidad $ 7,354\n",
      "2019, Mazda Mazda 3\n",
      "$ 183,500\n",
      "Mensualidad $ 3,570\n",
      "2018, Hyundai Grand i10\n",
      "$ 340,000\n",
      "Mensualidad $ 6,615\n",
      "2018, Seat Arona\n",
      "$ 650,000\n",
      "Mensualidad $ 12,645\n",
      "2021, Seat Tarraco\n",
      "$ 689,000\n",
      "Mensualidad $ 13,404\n",
      "2018, BMW X3\n",
      "$ 291,485\n",
      "Mensualidad $ 5,671\n",
      "2016, Seat Leon\n",
      "$ 228,999\n",
      "Mensualidad $ 4,455\n",
      "2019, KIA Rio\n",
      "$ 275,000\n",
      "Mensualidad $ 5,350\n",
      "2018, Suzuki Swift\n",
      "$ 509,624\n",
      "Mensualidad $ 9,914\n",
      "2020, KIA Sportage\n",
      "$ 288,000\n",
      "Mensualidad $ 5,603\n",
      "2018, Hyundai Creta\n",
      "$ 439,000\n",
      "Mensualidad $ 8,541\n",
      "2019, Volkswagen Beetle\n",
      "$ 207,434\n",
      "Mensualidad $ 4,036\n",
      "2018, Volkswagen Vento\n",
      "$ 355,000\n",
      "Mensualidad $ 6,906\n",
      "2019, Mazda Mazda 3\n",
      "$ 599,000\n",
      "Mensualidad $ 11,653\n",
      "2018, Mercedes Benz Clase C\n",
      "$ 250,000\n",
      "Mensualidad $ 4,864\n",
      "2020, Chevrolet Spark\n",
      "$ 239,999\n",
      "Mensualidad $ 4,669\n",
      "2018, Volkswagen Vento\n",
      "$ 395,000\n",
      "Mensualidad $ 7,685\n",
      "2016, Mini Mini 3 puertas\n",
      "$ 489,000\n",
      "Mensualidad $ 9,513\n",
      "2019, Toyota Highlander\n",
      "$ 294,000\n",
      "Mensualidad $ 5,720\n",
      "2017, Audi A1\n",
      "$ 192,300\n",
      "Mensualidad $ 3,741\n",
      "2019, Fiat Uno\n",
      "$ 462,142\n",
      "Mensualidad $ 8,991\n",
      "2019, KIA Sportage\n",
      "$ 232,155\n",
      "Mensualidad $ 4,516\n",
      "2020, Nissan March\n",
      "$ 410,000\n",
      "Mensualidad $ 7,976\n",
      "2020, Honda Civic\n",
      "$ 494,287\n",
      "Mensualidad $ 9,616\n",
      "2019, Ford Escape\n",
      "$ 275,000\n",
      "Mensualidad $ 5,350\n",
      "2018, KIA Rio\n",
      "$ 295,000\n",
      "Mensualidad $ 5,739\n",
      "2018, KIA Rio\n",
      "$ 285,000\n",
      "Mensualidad $ 5,545\n",
      "2017, Nissan Kicks\n",
      "$ 390,000\n",
      "Mensualidad $ 7,587\n",
      "2019, Mazda Mazda 3\n",
      "$ 370,755\n",
      "Mensualidad $ 7,213\n",
      "2019, Nissan Kicks\n",
      "$ 395,000\n",
      "Mensualidad $ 7,685\n",
      "2017, Ford Edge\n",
      "$ 360,422\n",
      "Mensualidad $ 7,012\n",
      "2019, Nissan Kicks\n",
      "$ 477,000\n",
      "Mensualidad $ 9,280\n",
      "2017, Mercedes Benz Clase C\n",
      "$ 500,000\n",
      "Mensualidad $ 9,727\n",
      "2019, Jeep Compass\n",
      "$ 399,000\n",
      "Mensualidad $ 7,762\n",
      "2018, Honda Civic\n",
      "$ 352,000\n",
      "Mensualidad $ 6,848\n",
      "2019, Chevrolet Trax\n",
      "$ 340,000\n",
      "Mensualidad $ 6,615\n",
      "2017, Jeep Renegade\n",
      "$ 233,000\n",
      "Mensualidad $ 4,533\n",
      "2019, Nissan Versa\n",
      "$ 785,000\n",
      "Mensualidad $ 15,272\n",
      "2020, Honda Odyssey\n",
      "$ 450,000\n",
      "Mensualidad $ 8,755\n",
      "2019, Toyota Camry\n"
     ]
    }
   ],
   "source": [
    "for auto in autos:\n",
    "    precio = auto.find_element(By.XPATH, \".//div[@data-aut-id='itemPrice']\").text\n",
    "    print(precio)\n",
    "    nombre = auto.find_element(By.XPATH, \".//div[@data-aut-id='itemTitle']\").text\n",
    "    print(nombre)\n"
   ]
  },
  {
   "cell_type": "markdown",
   "metadata": {},
   "source": [
    "Auto más caro"
   ]
  },
  {
   "cell_type": "code",
   "execution_count": 57,
   "metadata": {},
   "outputs": [],
   "source": [
    "driver.get(\"https://www.olxautos.com.mx/autos_c84?filter=olxautos_listing_eq_true&sorting=desc-price\")\n",
    "sleep(random.uniform(8.0,10.0))\n",
    "autos  = driver.find_elements(By.XPATH, \"//li[@data-aut-id='itemBox']\")\n",
    "#mail = driver.find_element(By.XPATH, mail_input2)\n",
    "#driver.implicitly_wait(3)\n",
    "Diccionario = {}\n",
    "for auto in autos:\n",
    "    precio = auto.find_element(By.XPATH, \".//div[@data-aut-id='itemPrice']\").text \n",
    "    nombre = auto.find_element(By.XPATH, \".//div[@data-aut-id='itemTitle']\").text\n",
    "    Diccionario.update({nombre : precio })"
   ]
  },
  {
   "cell_type": "code",
   "execution_count": 58,
   "metadata": {},
   "outputs": [
    {
     "data": {
      "text/plain": [
       "{'2020, Honda Odyssey': '$ 785,000\\nMensualidad $ 15,272',\n",
       " '2019, Toyota Sienna': '$ 601,000\\nMensualidad $ 11,692',\n",
       " '2019, Audi Q5': '$ 678,495\\nMensualidad $ 13,200',\n",
       " '2017, Jeep Wrangler': '$ 750,000\\nMensualidad $ 14,591',\n",
       " '2020, Honda Pilot': '$ 750,000\\nMensualidad $ 14,591',\n",
       " '2019, Chevrolet Camaro': '$ 746,000\\nMensualidad $ 14,513',\n",
       " '2017, Jeep Grand Cherokee': '$ 585,000\\nMensualidad $ 11,381',\n",
       " '2020, Mini Mini Countryman': '$ 710,000\\nMensualidad $ 13,813',\n",
       " '2019, Jeep Grand Cherokee': '$ 706,034\\nMensualidad $ 13,736',\n",
       " '2019, Honda Odyssey': '$ 700,000\\nMensualidad $ 13,618',\n",
       " '2020, Mercedes Benz Clase C': '$ 698,400\\nMensualidad $ 13,587',\n",
       " '2018, BMW X3': '$ 689,000\\nMensualidad $ 13,404',\n",
       " '2017, Audi Q3': '$ 675,000\\nMensualidad $ 13,132',\n",
       " '2018, Audi S3': '$ 670,000\\nMensualidad $ 13,034',\n",
       " '2020, Volkswagen Tiguan': '$ 665,000\\nMensualidad $ 12,937',\n",
       " '2020, Mini Mini 3 puertas': '$ 640,000\\nMensualidad $ 12,451',\n",
       " '2019, Honda Pilot': '$ 621,039\\nMensualidad $ 12,082',\n",
       " '2021, Seat Tarraco': '$ 650,000\\nMensualidad $ 12,645',\n",
       " '2018, Audi Q5': '$ 599,000\\nMensualidad $ 11,653',\n",
       " '2019, Mercedes Benz Clase C': '$ 610,033\\nMensualidad $ 11,868',\n",
       " '2021, BMW Serie 1': '$ 589,000\\nMensualidad $ 11,459',\n",
       " '2019, Mercedes Benz Clase CLA': '$ 625,000\\nMensualidad $ 12,159',\n",
       " '2018, Buick Enclave': '$ 602,086\\nMensualidad $ 11,713',\n",
       " '2020, Audi A3': '$ 600,400\\nMensualidad $ 11,680',\n",
       " '2018, Mercedes Benz Clase C': '$ 599,000\\nMensualidad $ 11,653',\n",
       " '2016, BMW X3': '$ 599,000\\nMensualidad $ 11,653',\n",
       " '2020, Ford Escape': '$ 585,000\\nMensualidad $ 11,381',\n",
       " '2019, Jeep Cherokee': '$ 583,000\\nMensualidad $ 11,342',\n",
       " '2015, Jeep Wrangler': '$ 581,461\\nMensualidad $ 11,312'}"
      ]
     },
     "execution_count": 58,
     "metadata": {},
     "output_type": "execute_result"
    }
   ],
   "source": [
    "Diccionario\n"
   ]
  },
  {
   "cell_type": "code",
   "execution_count": 59,
   "metadata": {},
   "outputs": [
    {
     "name": "stdout",
     "output_type": "stream",
     "text": [
      "2020, Honda Odyssey\n"
     ]
    }
   ],
   "source": [
    "print(list(Diccionario.keys())[0])"
   ]
  },
  {
   "cell_type": "code",
   "execution_count": 60,
   "metadata": {},
   "outputs": [],
   "source": [
    "driver.get(\"https://www.olxautos.com.mx/autos_c84?filter=olxautos_listing_eq_true&sorting=asc-price\")\n",
    "sleep(random.uniform(8.0,10.0))\n",
    "autos  = driver.find_elements(By.XPATH, \"//li[@data-aut-id='itemBox']\")\n",
    "#mail = driver.find_element(By.XPATH, mail_input2)\n",
    "#driver.implicitly_wait(3)\n",
    "Diccionario = {}\n",
    "for auto in autos:\n",
    "    precio = auto.find_element(By.XPATH, \".//div[@data-aut-id='itemPrice']\").text \n",
    "    nombre = auto.find_element(By.XPATH, \".//div[@data-aut-id='itemTitle']\").text\n",
    "    Diccionario.update({nombre : precio })"
   ]
  },
  {
   "cell_type": "code",
   "execution_count": 61,
   "metadata": {},
   "outputs": [
    {
     "data": {
      "text/plain": [
       "{'2017, Chevrolet Spark': '$ 169,000\\nMensualidad $ 3,288',\n",
       " '2016, Volkswagen Gol': '$ 149,000\\nMensualidad $ 2,899',\n",
       " '2016, Chevrolet Spark': '$ 150,000\\nMensualidad $ 2,918',\n",
       " '2019, Chevrolet Beat': '$ 173,120\\nMensualidad $ 3,368',\n",
       " '2016, Chevrolet Aveo': '$ 156,905\\nMensualidad $ 3,052',\n",
       " '2015, Volkswagen Vento': '$ 190,400\\nMensualidad $ 3,704',\n",
       " '2017, Fiat Mobi': '$ 164,500\\nMensualidad $ 3,200',\n",
       " '2016, Ford Figo': '$ 168,900\\nMensualidad $ 3,286',\n",
       " '2019, Dodge Attitude': '$ 171,231\\nMensualidad $ 3,331',\n",
       " '2017, Volkswagen Gol': '$ 180,000\\nMensualidad $ 3,502',\n",
       " '2018, Chevrolet Aveo': '$ 180,000\\nMensualidad $ 3,502',\n",
       " '2019, Chevrolet Aveo': '$ 194,000\\nMensualidad $ 3,774',\n",
       " '2018, Hyundai Grand i10': '$ 183,500\\nMensualidad $ 3,570',\n",
       " '2017, Nissan March': '$ 183,700\\nMensualidad $ 3,574',\n",
       " '2017, Chevrolet Sonic': '$ 198,000\\nMensualidad $ 3,852',\n",
       " '2018, Chevrolet Beat': '$ 187,500\\nMensualidad $ 3,648',\n",
       " '2020, Chevrolet Beat': '$ 190,000\\nMensualidad $ 3,696',\n",
       " '2017, Toyota Yaris': '$ 190,000\\nMensualidad $ 3,696',\n",
       " '2019, Fiat Uno': '$ 195,900\\nMensualidad $ 3,811',\n",
       " '2018, Volkswagen Gol': '$ 193,200\\nMensualidad $ 3,759',\n",
       " '2020, Chevrolet Aveo': '$ 193,522\\nMensualidad $ 3,765',\n",
       " '2019, Nissan Versa': '$ 195,000\\nMensualidad $ 3,794',\n",
       " '2017, Volkswagen Polo': '$ 195,000\\nMensualidad $ 3,794',\n",
       " '2018, Volkswagen Vento': '$ 195,000\\nMensualidad $ 3,794',\n",
       " '2018, Nissan March': '$ 198,000\\nMensualidad $ 3,852',\n",
       " '2020, Nissan Versa': '$ 198,790\\nMensualidad $ 3,867',\n",
       " '2017, Nissan Sentra': '$ 199,000\\nMensualidad $ 3,871',\n",
       " '2018, Renault Stepway': '$ 199,000\\nMensualidad $ 3,871',\n",
       " '2017, Ford Fiesta': '$ 199,000\\nMensualidad $ 3,871'}"
      ]
     },
     "execution_count": 61,
     "metadata": {},
     "output_type": "execute_result"
    }
   ],
   "source": [
    "Diccionario\n"
   ]
  },
  {
   "cell_type": "code",
   "execution_count": 64,
   "metadata": {},
   "outputs": [
    {
     "name": "stdout",
     "output_type": "stream",
     "text": [
      "2017, Chevrolet Spark\n"
     ]
    }
   ],
   "source": [
    "print(list(Diccionario.keys())[0])"
   ]
  }
 ],
 "metadata": {
  "interpreter": {
   "hash": "12e7b2db913c7cced4d5bf71ce365c438f2053887e824f813caa9208ccef4b13"
  },
  "kernelspec": {
   "display_name": "Python 3.9.7 ('base')",
   "language": "python",
   "name": "python3"
  },
  "language_info": {
   "codemirror_mode": {
    "name": "ipython",
    "version": 3
   },
   "file_extension": ".py",
   "mimetype": "text/x-python",
   "name": "python",
   "nbconvert_exporter": "python",
   "pygments_lexer": "ipython3",
   "version": "3.9.7"
  },
  "orig_nbformat": 4
 },
 "nbformat": 4,
 "nbformat_minor": 2
}
