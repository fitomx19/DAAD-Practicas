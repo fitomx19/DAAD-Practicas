{
 "cells": [
  {
   "cell_type": "markdown",
   "metadata": {},
   "source": [
    "### Web Scraping a Pagina de Clima de la CDMX"
   ]
  },
  {
   "cell_type": "markdown",
   "metadata": {},
   "source": [
    "https://github.com/fitomx19"
   ]
  },
  {
   "cell_type": "code",
   "execution_count": 1,
   "metadata": {},
   "outputs": [],
   "source": [
    "from bs4 import BeautifulSoup\n",
    "import requests\n",
    "import matplotlib.pyplot as plt  \n",
    "import numpy as np\n",
    "#Obtenemos el Url de la pagina que vamos a hacer scrapping\n",
    "url = \"https://weather.com/es-MX/tiempo/10dias/l/Cuauht%C3%A9moc?canonicalCityId=be0befa047d3e1dee37c318f892246bcba0860bde3bbe17767ebcc35ee1d2d72\"\n",
    "soup = BeautifulSoup(requests.get(url).text, 'html5lib')"
   ]
  },
  {
   "cell_type": "markdown",
   "metadata": {},
   "source": [
    "Despues vamos a buscar en el atributo < details > todos los que tengan por clase \"DaypartDetails...\""
   ]
  },
  {
   "cell_type": "code",
   "execution_count": 2,
   "metadata": {},
   "outputs": [],
   "source": [
    "tabla_de_temperaturas = soup.find_all('details', 'DaypartDetails--DayPartDetail--1up3g Disclosure--themeList--25Q0H')\n"
   ]
  },
  {
   "cell_type": "markdown",
   "metadata": {},
   "source": [
    "Vamos a utilizar dos metodos para almacenar informacion, uno en diccionarios y otro en listas, asi como la impresion una mediante tablas de barras y otro por scatter"
   ]
  },
  {
   "cell_type": "code",
   "execution_count": 3,
   "metadata": {},
   "outputs": [],
   "source": [
    "#Listas\n",
    "text_temperatura = []\n",
    "text_dia = []\n",
    "#Diccionario\n",
    "Diccionario = {}\n",
    "\n",
    "#Creacion de lista - primera forma para desarrollarlo\n",
    "for x in tabla_de_temperaturas:\n",
    "    #Buscamos en la seccion de codigo todos los spans con ese nombre de atributo\n",
    "    temperatura = x.find('span', {'data-testid': 'TemperatureValue'})\n",
    "    #Buscamos en la seccion de codigo todos los h3 con ese nombbre de atributo\n",
    "    dia = x.find('h3', {'data-testid': 'daypartName'})\n",
    "    #Apilamos en la lista correspondiente ya sea text temperatura o text dia\n",
    "    text_temperatura.append(int(temperatura.get_text().replace(\"°\", \" \")))\n",
    "    text_dia.append(dia.get_text())\n",
    "\n",
    "#creacion de diccionario - segunda forma para desarrollarlo\n",
    "\n",
    "#\n",
    "\n",
    "for x in tabla_de_temperaturas:\n",
    "    #Al igual que arriba obtenemos los valores por atributos\n",
    "    temperatura = x.find('span', {'data-testid': 'TemperatureValue'})\n",
    "    dia = x.find('h3', {'data-testid': 'daypartName'})\n",
    "    #Finalmente insertamos en los diccionarios, no olvidando convertir la temperatura a int y quitando el ° y reemplazando\n",
    "    #por un espacio en blanco\n",
    "    Diccionario.update({dia.get_text() : int(temperatura.get_text().replace(\"°\", \" \")) })"
   ]
  },
  {
   "cell_type": "markdown",
   "metadata": {},
   "source": [
    "Imprimimos la tabla para mostrar la grafica de las temperaturas mediante scatter"
   ]
  },
  {
   "cell_type": "code",
   "execution_count": 7,
   "metadata": {},
   "outputs": [
    {
     "data": {
      "image/png": "[encoded data removed]",
      "text/plain": [
       "<Figure size 540x252 with 1 Axes>"
      ]
     },
     "metadata": {
      "needs_background": "light"
     },
     "output_type": "display_data"
    }
   ],
   "source": [
    "#Creamos arreglos nuMPY\n",
    "txtT = np.array(text_temperatura)\n",
    "txtD = np.array(text_dia)\n",
    "\n",
    "#Ajustamos los parametros para acomodarlo de una manera más correcta\n",
    "plt.rcParams[\"figure.figsize\"] = [7.50, 3.50]\n",
    "plt.rcParams[\"figure.autolayout\"] = True\n",
    "fig = plt.figure()\n",
    "#Marcamos que datos queremos imprimir\n",
    "plt.scatter(txtD, txtT)\n",
    "spacing = .700\n",
    "#Ajustamos los rangos\n",
    "plt.axis([0, 15, 20, 33])\n",
    "fig.subplots_adjust(bottom=spacing)\n",
    "plt.title(\"Temperaturas semanales Ciudad de Mexico\")\n",
    "plt.show()"
   ]
  },
  {
   "cell_type": "markdown",
   "metadata": {},
   "source": [
    "Imprimimos la tabla con el diccionario mediante grafica de barras"
   ]
  },
  {
   "cell_type": "code",
   "execution_count": 8,
   "metadata": {},
   "outputs": [
    {
     "data": {
      "image/png": "[encoded data removed]",
      "text/plain": [
       "<Figure size 540x252 with 1 Axes>"
      ]
     },
     "metadata": {
      "needs_background": "light"
     },
     "output_type": "display_data"
    }
   ],
   "source": [
    "#Agregamos los datos recordando utilizar los values  como rango y y la longitud del diccionario como x\n",
    "plt.bar(range(len(Diccionario)), list(Diccionario.values()), align='center')\n",
    "#Aca convertimos el range (1,2,3,4...) de los dias a el nombre de la impresion como lo es Hoy Lunes, Martes...\n",
    "plt.xticks(range(len(Diccionario)), list(Diccionario.keys()))\n",
    "#Ajustamos el tamaño\n",
    "plt.axis([0, 15, 20, 33])\n",
    "plt.rcParams[\"figure.figsize\"] = [7.50, 3.50]\n",
    "plt.rcParams[\"figure.autolayout\"] = True\n",
    "plt.title(\"Temperaturas semanales Ciudad de Mexico\")\n",
    "#Imprimos la tabla\n",
    "plt.show()\n",
    "\n"
   ]
  }
 ],
 "metadata": {
  "interpreter": {
   "hash": "12e7b2db913c7cced4d5bf71ce365c438f2053887e824f813caa9208ccef4b13"
  },
  "kernelspec": {
   "display_name": "Python 3.9.7 ('base')",
   "language": "python",
   "name": "python3"
  },
  "language_info": {
   "codemirror_mode": {
    "name": "ipython",
    "version": 3
   },
   "file_extension": ".py",
   "mimetype": "text/x-python",
   "name": "python",
   "nbconvert_exporter": "python",
   "pygments_lexer": "ipython3",
   "version": "3.9.7"
  },
  "orig_nbformat": 4
 },
 "nbformat": 4,
 "nbformat_minor": 2
}
